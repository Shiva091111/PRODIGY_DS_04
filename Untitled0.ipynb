{
  "nbformat": 4,
  "nbformat_minor": 0,
  "metadata": {
    "colab": {
      "provenance": [],
      "authorship_tag": "ABX9TyPEA/L9/3UF+JrAr0Z2vrwx",
      "include_colab_link": true
    },
    "kernelspec": {
      "name": "python3",
      "display_name": "Python 3"
    },
    "language_info": {
      "name": "python"
    }
  },
  "cells": [
    {
      "cell_type": "markdown",
      "metadata": {
        "id": "view-in-github",
        "colab_type": "text"
      },
      "source": [
        "<a href=\"https://colab.research.google.com/github/Shiva091111/PRODIGY_DS_04/blob/main/Untitled0.ipynb\" target=\"_parent\"><img src=\"https://colab.research.google.com/assets/colab-badge.svg\" alt=\"Open In Colab\"/></a>"
      ]
    },
    {
      "cell_type": "code",
      "execution_count": null,
      "metadata": {
        "id": "zbQCQbSGqh8x"
      },
      "outputs": [],
      "source": [
        "\n",
        "#Open In Colab\n",
        "\n",
        "import numpy as np\n",
        "import pandas as pd\n",
        "import matplotlib.pyplot as plt\n",
        "import seaborn as sns\n",
        "from wordcloud import WordCloud\n",
        "cols=['ID', 'Topic', 'Sentiment', 'Text']\n",
        "train = pd.read_csv(\"twitter_training.csv\",names=cols)\n",
        "\n",
        "plt.figure(figsize=(8,10))\n",
        "train['Topic'].value_counts().plot(kind='barh',color='g')\n",
        "plt.xlabel(\"Count\")\n",
        "plt.show()\n",
        "\n",
        "sns.countplot(x = 'Sentiment',data=train,palette='viridis')\n",
        "plt.show()\n",
        "\n",
        "# Calculate the counts for each sentiment\n",
        "sentiment_counts = train['Sentiment'].value_counts()\n",
        "\n",
        "# Create the pie chart\n",
        "plt.figure(figsize=(8, 8))\n",
        "plt.pie(sentiment_counts, labels=sentiment_counts.index, autopct=\"%1.1f%%\", startangle=140, colors=['skyblue', 'orange', 'green', 'red', 'purple'])\n",
        "\n",
        "plt.title('Sentiment Distribution')\n",
        "\n",
        "# Show the plot\n",
        "plt.show()\n",
        "\n",
        "plt.figure(figsize=(20,12))\n",
        "sns.countplot(x='Topic',data=train,palette='viridis',hue='Sentiment')\n",
        "plt.xticks(rotation=90)\n",
        "plt.show()\n",
        "topic_wise_sentiment = train.groupby([\"Topic\", \"Sentiment\"]).size().reset_index(name='Count')\n",
        "\n",
        "# Step 2: Select Top 5 Topics\n",
        "topic_counts = train['Topic'].value_counts().nlargest(5).index\n",
        "top_topics_sentiment = topic_wise_sentiment[topic_wise_sentiment['Topic'].isin(topic_counts)]\n",
        "plt.figure(figsize=(12, 8))\n",
        "sns.barplot(data=top_topics_sentiment[top_topics_sentiment['Sentiment'] == 'Negative'], x='Topic', y='Count', palette='viridis')\n",
        "plt.title('Top 5 Topics with Negative Sentiments')\n",
        "plt.xlabel('Topic')\n",
        "plt.ylabel('Count')\n",
        "plt.xticks(rotation=45)\n",
        "plt.show()\n",
        "\n",
        "plt.figure(figsize=(12, 8))\n",
        "sns.barplot(data=top_topics_sentiment[top_topics_sentiment['Sentiment'] == 'Positive'], x='Topic', y='Count', palette='Greens')\n",
        "plt.title('Top 5 Topics with Positive Sentiments')\n",
        "plt.xlabel('Topic')\n",
        "plt.ylabel('Count')\n",
        "plt.xticks(rotation=45)\n",
        "plt.show()\n",
        "\n",
        "\n",
        "\n",
        "\n",
        "\n",
        "\n",
        "\n",
        "\n",
        "\n",
        "\n",
        "\n",
        "\n",
        "\n",
        "\n",
        "\n",
        "\n",
        "\n",
        "\n",
        "\n",
        "\n",
        "\n",
        "\n",
        "\n",
        "\n",
        "\n",
        "\n",
        "\n",
        "\n"
      ]
    }
  ]
}